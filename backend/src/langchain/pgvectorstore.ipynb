{
 "cells": [
  {
   "cell_type": "code",
   "execution_count": 1,
   "metadata": {},
   "outputs": [],
   "source": [
    "import os\n",
    "import uuid\n",
    "\n",
    "import pandas as pd\n",
    "from dotenv import load_dotenv\n",
    "from langchain.chat_models import init_chat_model\n",
    "from langchain.text_splitter import RecursiveCharacterTextSplitter\n",
    "from langchain_community.document_loaders import PyPDFLoader\n",
    "from langchain_core.documents import Document\n",
    "from langchain_openai import OpenAIEmbeddings\n",
    "from langchain_postgres import PGEngine, PGVectorStore\n",
    "from langgraph.graph import START, StateGraph\n",
    "from typing_extensions import List, TypedDict\n",
    "\n",
    "load_dotenv()\n",
    "\n",
    "\n",
    "CONNECTION_STRING = (\n",
    "    f\"postgresql+asyncpg://{os.environ['POSTGRES_USER']}:{os.environ['POSTGRES_PASSWORD']}@{os.environ['POSTGRES_HOST']}\"\n",
    "    f\":{os.environ['POSTGRES_PORT']}/{os.environ['POSTGRES_DB']}\"\n",
    ")\n",
    "\n",
    "pg_engine = PGEngine.from_connection_string(url=CONNECTION_STRING)\n",
    "\n",
    "# await pg_engine.ainit_vectorstore_table(\n",
    "#     table_name=os.environ['TABLE_NAME'],\n",
    "#     vector_size=os.environ['VECTOR_SIZE'],\n",
    "# )\n",
    "\n",
    "embedding = OpenAIEmbeddings(model=\"text-embedding-3-large\")\n",
    "\n",
    "store = await PGVectorStore.create(\n",
    "    engine=pg_engine,\n",
    "    table_name=os.environ['TABLE_NAME'],\n",
    "    embedding_service=embedding,\n",
    ")"
   ]
  },
  {
   "cell_type": "code",
   "execution_count": 2,
   "metadata": {},
   "outputs": [
    {
     "data": {
      "text/plain": [
       "['77a42683-e507-4e28-a155-3a0def33c04b',\n",
       " '40045658-1f55-44cd-b3b5-766e2d49d19e',\n",
       " 'f3e45e75-6fd1-4e46-8500-35f1b4e4fb1f']"
      ]
     },
     "execution_count": 2,
     "metadata": {},
     "output_type": "execute_result"
    }
   ],
   "source": [
    "docs = [\n",
    "    Document(\n",
    "        id=str(uuid.uuid4()),\n",
    "        page_content=\"Red Apple\",\n",
    "        metadata={\"description\": \"red\", \"content\": \"1\", \"category\": \"fruit\"},\n",
    "    ),\n",
    "    Document(\n",
    "        id=str(uuid.uuid4()),\n",
    "        page_content=\"Banana Cavendish\",\n",
    "        metadata={\"description\": \"yellow\", \"content\": \"2\", \"category\": \"fruit\"},\n",
    "    ),\n",
    "    Document(\n",
    "        id=str(uuid.uuid4()),\n",
    "        page_content=\"Orange Navel\",\n",
    "        metadata={\"description\": \"orange\", \"content\": \"3\", \"category\": \"fruit\"},\n",
    "    ),\n",
    "]\n",
    "\n",
    "await store.aadd_documents(docs)"
   ]
  },
  {
   "cell_type": "code",
   "execution_count": 3,
   "metadata": {},
   "outputs": [
    {
     "data": {
      "text/plain": [
       "['2487bbba-089b-4d18-aaa3-d8ca9d12acfa',\n",
       " 'baca5bb3-d61a-40a8-9470-500754ce62e5',\n",
       " '72765976-6165-43b3-a8da-8930df4f0f4f',\n",
       " 'a8faf5cb-8a1b-40b0-b699-cb093b584494',\n",
       " 'df1f2fb3-6ec2-47be-8fd7-f0f0849f4ccf']"
      ]
     },
     "execution_count": 3,
     "metadata": {},
     "output_type": "execute_result"
    }
   ],
   "source": [
    "all_texts = [\"Apples and oranges\", \"Cars and airplanes\", \"Pineapple\", \"Train\", \"Banana\"]\n",
    "metadatas = [{\"len\": len(t)} for t in all_texts]\n",
    "ids = [str(uuid.uuid4()) for _ in all_texts]\n",
    "\n",
    "await store.aadd_texts(all_texts, metadatas=metadatas, ids=ids)"
   ]
  },
  {
   "cell_type": "code",
   "execution_count": 6,
   "metadata": {},
   "outputs": [],
   "source": [
    "from langchain import hub\n",
    "\n",
    "llm = init_chat_model(\"gpt-4o-mini\", model_provider=\"openai\")\n",
    "\n",
    "def extract_data():\n",
    "    text_chunks = []\n",
    "    files = filter(lambda f: f.lower().endswith(\".pdf\"), os.listdir(\"./content_source/pdf\"))\n",
    "    file_list = list(files)\n",
    "    for file in file_list:\n",
    "        loader = PyPDFLoader(os.path.join('content_source', 'pdf', file))\n",
    "        chunk = loader.load_and_split(text_splitter=RecursiveCharacterTextSplitter(\n",
    "            chunk_size = 1024,\n",
    "            chunk_overlap = 30,\n",
    "            length_function = len,\n",
    "            separators= [\"\\n\\n\", \"\\n\", \".\", \" \"]\n",
    "        ))\n",
    "        ids = [str(uuid.uuid4()) for _ in text_chunks]\n",
    "        try:\n",
    "            store.add_documents(chunk)\n",
    "        except Exception as e:\n",
    "            print(e)\n",
    "\n",
    "# Define prompt for question-answering\n",
    "# N.B. for non-US LangSmith endpoints, you may need to specify\n",
    "# api_url=\"https://api.smith.langchain.com\" in hub.pull.\n",
    "prompt = hub.pull(\"rlm/rag-prompt\")\n",
    "\n",
    "extract_data()\n",
    "\n",
    "\n",
    "# Define state for application\n",
    "class State(TypedDict):\n",
    "    question: str\n",
    "    context: List[Document]\n",
    "    answer: str\n",
    "\n",
    "\n",
    "# Define application steps\n",
    "def retrieve(state: State):\n",
    "    retrieved_docs = store.similarity_search(state[\"question\"])\n",
    "    return {\"context\": retrieved_docs}\n",
    "\n",
    "\n",
    "def generate(state: State):\n",
    "    docs_content = \"\\n\\n\".join(doc.page_content for doc in state[\"context\"])\n",
    "    messages = prompt.invoke({\"question\": state[\"question\"], \"context\": docs_content})\n",
    "    response = llm.invoke(messages)\n",
    "    return {\"answer\": response.content}\n",
    "\n",
    "\n",
    "# Compile application and test\n",
    "graph_builder = StateGraph(State).add_sequence([retrieve, generate])\n",
    "graph_builder.add_edge(START, \"retrieve\")\n",
    "graph = graph_builder.compile()\n",
    "\n"
   ]
  },
  {
   "cell_type": "code",
   "execution_count": 14,
   "metadata": {},
   "outputs": [
    {
     "name": "stdout",
     "output_type": "stream",
     "text": [
      "I don't know.\n"
     ]
    }
   ],
   "source": [
    "response = graph.invoke({\"question\": \"what are the football rules?\"})\n",
    "print(response[\"answer\"])"
   ]
  }
 ],
 "metadata": {
  "kernelspec": {
   "display_name": "venv",
   "language": "python",
   "name": "python3"
  },
  "language_info": {
   "codemirror_mode": {
    "name": "ipython",
    "version": 3
   },
   "file_extension": ".py",
   "mimetype": "text/x-python",
   "name": "python",
   "nbconvert_exporter": "python",
   "pygments_lexer": "ipython3",
   "version": "3.11.9"
  }
 },
 "nbformat": 4,
 "nbformat_minor": 2
}
